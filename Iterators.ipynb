{
 "cells": [
  {
   "cell_type": "markdown",
   "id": "371227db-9092-469d-aba7-7bc0d2e86f03",
   "metadata": {},
   "source": [
    "Que 1. Write a program to iterate a list using an iterator and a while loop [10,20,30,40]"
   ]
  },
  {
   "cell_type": "code",
   "execution_count": 8,
   "id": "d8808839-2665-495b-873d-422703df7d21",
   "metadata": {},
   "outputs": [
    {
     "name": "stdout",
     "output_type": "stream",
     "text": [
      "10\n",
      "20\n",
      "30\n",
      "40\n"
     ]
    }
   ],
   "source": [
    "numbers = [10,20,30,40]\n",
    "iterator = iter(numbers)\n",
    "while True:\n",
    "    try:\n",
    "        print(next(iterator))\n",
    "    except StopIteration:\n",
    "        break"
   ]
  },
  {
   "cell_type": "markdown",
   "id": "2fc36cc6-e40a-4396-a8e6-f1613cf6b171",
   "metadata": {},
   "source": [
    "Que 2. What happens if we call next() on an iterator that has no more item left "
   ]
  },
  {
   "cell_type": "code",
   "execution_count": 10,
   "id": "1ebd20ff-2541-4d63-a91a-b639ed1da3ab",
   "metadata": {},
   "outputs": [
    {
     "name": "stdout",
     "output_type": "stream",
     "text": [
      "10\n",
      "20\n",
      "30\n",
      "40\n"
     ]
    }
   ],
   "source": [
    "Numbers = [10,20,30,40,50]\n",
    "iterator = iter(numbers)\n",
    "\n",
    "print(next(iterator))\n",
    "print(next(iterator))\n",
    "print(next(iterator))\n",
    "print(next(iterator))"
   ]
  },
  {
   "cell_type": "markdown",
   "id": "b500cbe2-4f36-4923-9934-230d3baff369",
   "metadata": {},
   "source": [
    "Que 3. How do you a 'for loop' to iterate over an iterator. [\"a\",\"b\",\"c\"]"
   ]
  },
  {
   "cell_type": "code",
   "execution_count": 11,
   "id": "95dd35ef-c991-4671-933b-1ab5be24b7cc",
   "metadata": {},
   "outputs": [
    {
     "name": "stdout",
     "output_type": "stream",
     "text": [
      "a\n",
      "b\n",
      "c\n"
     ]
    }
   ],
   "source": [
    "letters = [\"a\", \"b\", \"c\"]\n",
    "\n",
    "for i in letters:\n",
    "    print(i)"
   ]
  },
  {
   "cell_type": "markdown",
   "id": "2deebf34-30a3-4436-97a5-4993460be6e7",
   "metadata": {},
   "source": [
    "Que 4.How do you use iter() and next() to iterate through a range of numbers? "
   ]
  },
  {
   "cell_type": "code",
   "execution_count": 5,
   "id": "b25749b4-88fb-4d7e-9567-bd13bbac8820",
   "metadata": {},
   "outputs": [
    {
     "name": "stdout",
     "output_type": "stream",
     "text": [
      "0\n",
      "1\n",
      "2\n",
      "3\n",
      "4\n",
      "5\n"
     ]
    }
   ],
   "source": [
    "range_iter = iter(range(6))\n",
    "\n",
    "print(next(range_iter))\n",
    "print(next(range_iter))\n",
    "print(next(range_iter))\n",
    "print(next(range_iter))\n",
    "print(next(range_iter))\n",
    "print(next(range_iter))"
   ]
  },
  {
   "cell_type": "code",
   "execution_count": null,
   "id": "c0dceb60-12af-489f-ae96-b1af11c23cd6",
   "metadata": {},
   "outputs": [],
   "source": []
  }
 ],
 "metadata": {
  "kernelspec": {
   "display_name": "Python 3 (ipykernel)",
   "language": "python",
   "name": "python3"
  },
  "language_info": {
   "codemirror_mode": {
    "name": "ipython",
    "version": 3
   },
   "file_extension": ".py",
   "mimetype": "text/x-python",
   "name": "python",
   "nbconvert_exporter": "python",
   "pygments_lexer": "ipython3",
   "version": "3.12.4"
  }
 },
 "nbformat": 4,
 "nbformat_minor": 5
}
