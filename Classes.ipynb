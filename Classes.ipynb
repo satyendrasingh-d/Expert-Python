{
 "cells": [
  {
   "cell_type": "code",
   "execution_count": 4,
   "id": "3778ba56-95e3-4ff4-86ed-194ebfc0ec57",
   "metadata": {},
   "outputs": [
    {
     "name": "stdout",
     "output_type": "stream",
     "text": [
      "TATA Safari Black\n"
     ]
    }
   ],
   "source": [
    "# Creating Class\n",
    "class Cars:   # Alwayas start from upper case \n",
    "    Brand = 'TATA'\n",
    "    Name = 'Safari'\n",
    "    Color = 'Black'\n",
    "# Creating Object(instance)\n",
    "f1 = Cars()\n",
    "print(f1.Brand,f1.Name,f1.Color)"
   ]
  },
  {
   "cell_type": "code",
   "execution_count": 13,
   "id": "987b2784-69db-494f-a660-fee29afd0ff8",
   "metadata": {},
   "outputs": [
    {
     "name": "stdout",
     "output_type": "stream",
     "text": [
      "Oppo Reno 8\n"
     ]
    }
   ],
   "source": [
    "class Phones:\n",
    "    Brand = 'Oppo'\n",
    "    Modal_Name = 'Reno 8'\n",
    "    color = 'Blue'\n",
    "f2 = Phones()\n",
    "print(f2.Brand,f2.Modal_Name)"
   ]
  },
  {
   "cell_type": "code",
   "execution_count": 19,
   "id": "a4b639e8-5d71-4e73-bbd1-0dad0f3a165e",
   "metadata": {},
   "outputs": [
    {
     "name": "stdout",
     "output_type": "stream",
     "text": [
      "Campus White 3500\n"
     ]
    }
   ],
   "source": [
    "class Shoes:\n",
    "    Brand = 'Campus'\n",
    "    Name = 'Pilot Pro'\n",
    "    color = 'White'\n",
    "    Price = 3500\n",
    "f3 = Shoes()\n",
    "print(f3.Brand,f3.color,f3.Price)"
   ]
  },
  {
   "cell_type": "code",
   "execution_count": null,
   "id": "2a5551eb-86e3-4bd4-b43d-03c6da9d9457",
   "metadata": {},
   "outputs": [],
   "source": []
  },
  {
   "cell_type": "code",
   "execution_count": 12,
   "id": "e12ddd74-40d6-44bd-a846-889d533103b0",
   "metadata": {},
   "outputs": [
    {
     "name": "stdout",
     "output_type": "stream",
     "text": [
      "Varun 20\n",
      "Amit 18\n",
      "Rohan 22\n",
      "Sumit 25\n",
      "Arif 21\n"
     ]
    }
   ],
   "source": [
    "class Student():\n",
    "    def __init__(self, name, age):\n",
    "        self.name = name\n",
    "        self.age = age\n",
    "      \n",
    "s1 = Student('Varun',20)\n",
    "print(s1.name,s1.age)\n",
    "\n",
    "s2 = Student('Amit',18)\n",
    "print(s2.name,s2.age)\n",
    "\n",
    "s3 = Student('Rohan',22)\n",
    "print(s3.name,s3.age)\n",
    "\n",
    "s4 = Student('Sumit',25)\n",
    "print(s4.name,s4.age)\n",
    "\n",
    "s5 = Student('Arif',21)\n",
    "print(s5.name,s5.age)"
   ]
  },
  {
   "cell_type": "code",
   "execution_count": 4,
   "id": "6327fab5-528f-4ddd-ad04-9ed3abd814ac",
   "metadata": {},
   "outputs": [
    {
     "name": "stdout",
     "output_type": "stream",
     "text": [
      "Toyota, Innova, White\n",
      "Tata, Safari, Black\n",
      "Mahindra, Scarpio, Black\n",
      "MG, Gloster, White\n",
      "Mahindra, Thar, Red\n"
     ]
    }
   ],
   "source": [
    "class Cars:\n",
    "    def __init__(self,brand, name, color):\n",
    "        self.brand = brand\n",
    "        self.name = name\n",
    "        self.color = color\n",
    "\n",
    "a1 = Cars('Toyota,','Innova,','White')\n",
    "print(a1.brand,a1.name,a1.color)\n",
    "\n",
    "a2 = Cars('Tata,','Safari,','Black')\n",
    "print(a2.brand,a2.name,a2.color)\n",
    "\n",
    "a3 = Cars('Mahindra,','Scarpio,','Black')\n",
    "print(a3.brand,a3.name,a3.color)\n",
    "\n",
    "a4 = Cars('MG,','Gloster,','White')\n",
    "print(a4.brand,a4.name,a4.color)\n",
    "\n",
    "a5 = Cars('Mahindra,','Thar,','Red')\n",
    "print(a5.brand,a5.name,a5.color)"
   ]
  },
  {
   "cell_type": "code",
   "execution_count": 8,
   "id": "da069489-67ce-46b0-b277-e51313c640a7",
   "metadata": {},
   "outputs": [
    {
     "name": "stdout",
     "output_type": "stream",
     "text": [
      "Oppo Reno 10 Black\n",
      "Vivo Y72 Black\n",
      "Realme 13 Pro + Black\n",
      "Samsung Z Fold 4 Blue\n",
      "Apple Iphone 15 White\n"
     ]
    }
   ],
   "source": [
    "class Phones:\n",
    "    def __init__(self, brand, name, color):\n",
    "        self.brand = brand\n",
    "        self.name = name\n",
    "        self.color = color\n",
    "\n",
    "x1 = Phones('Oppo','Reno 10','Black')\n",
    "print(x1.brand,x1.name,x1.color)\n",
    "\n",
    "x2 = Phones('Vivo','Y72','Black')\n",
    "print(x2.brand,x2.name,x2.color)\n",
    "\n",
    "x3 = Phones('Realme','13 Pro +','Black')\n",
    "print(x3.brand,x3.name,x3.color)\n",
    "\n",
    "x4 = Phones('Samsung','Z Fold 4','Blue')\n",
    "print(x4.brand,x4.name,x4.color)\n",
    "\n",
    "x5 = Phones('Apple','Iphone 15','White')\n",
    "print(x5.brand,x5.name,x5.color)"
   ]
  },
  {
   "cell_type": "code",
   "execution_count": 1,
   "id": "f0a368c4-6dcc-4819-8ca4-48c5707f3e86",
   "metadata": {},
   "outputs": [
    {
     "name": "stdout",
     "output_type": "stream",
     "text": [
      "101 Rohan 17 2020\n",
      "105 Rohit 20 2018\n",
      "110 Priya 22 2023\n",
      "112 Anjali 20\n",
      "120 Arun\n"
     ]
    }
   ],
   "source": [
    "class Students:\n",
    "    def __init__(self,roll_no,name,age,year):\n",
    "        self.roll_no = roll_no\n",
    "        self.name = name\n",
    "        self.age = age\n",
    "        self.year = year\n",
    "\n",
    "y1 = Students(101,'Rohan',17,2020)\n",
    "print(y1.roll_no,y1.name,y1.age,y1.year)\n",
    "\n",
    "y2 = Students(105,'Rohit',20,2018)\n",
    "print(y2.roll_no,y2.name,y2.age,y2.year)\n",
    "\n",
    "y3 = Students(110,'Priya',22,2023)\n",
    "print(y3.roll_no,y3.name,y3.age,y3.year)\n",
    "\n",
    "y4 = Students(112,'Anjali',20,2022)\n",
    "print(y4.roll_no,y4.name,y4.age)\n",
    "\n",
    "y5 = Students(120,'Arun',25,2015)\n",
    "print(y5.roll_no,y5.name)"
   ]
  },
  {
   "cell_type": "code",
   "execution_count": 19,
   "id": "d9b6c0ff-5a2d-4d38-acf7-ad44ea8a0224",
   "metadata": {},
   "outputs": [
    {
     "name": "stdout",
     "output_type": "stream",
     "text": [
      "AAFT\n",
      "Adding Students to database\n",
      "101 Rohan 17 2020\n",
      "Adding Students to database\n",
      "105 Rohit 20 2018\n",
      "Adding Students to database\n",
      "110 Priya 22 2023\n",
      "Adding Students to database\n",
      "112 Anjali 20\n",
      "Adding Students to database\n",
      "120 Arun\n",
      "AAFT\n"
     ]
    }
   ],
   "source": [
    "class Students:\n",
    "    College = 'AAFT'\n",
    "    def __init__(self,roll_no,name,age,year):\n",
    "        self.roll_no = roll_no\n",
    "        self.name = name\n",
    "        self.age = age\n",
    "        self.year = year\n",
    "        print(\"Adding Students to database\")\n",
    "\n",
    "print(y1.College)\n",
    "y1 = Students(101,'Rohan',17,2020)\n",
    "print(y1.roll_no,y1.name,y1.age,y1.year)\n",
    "\n",
    "y2 = Students(105,'Rohit',20,2018)\n",
    "print(y2.roll_no,y2.name,y2.age,y2.year)\n",
    "\n",
    "y3 = Students(110,'Priya',22,2023)\n",
    "print(y3.roll_no,y3.name,y3.age,y3.year)\n",
    "\n",
    "y4 = Students(112,'Anjali',20,2022)\n",
    "print(y4.roll_no,y4.name,y4.age)\n",
    "\n",
    "y5 = Students(120,'Arun',25,2015)\n",
    "print(y5.roll_no,y5.name)\n",
    "print(y1.College)"
   ]
  },
  {
   "cell_type": "code",
   "execution_count": null,
   "id": "9846533a-0780-4a6d-b30b-f8ea72dd0050",
   "metadata": {},
   "outputs": [],
   "source": []
  },
  {
   "cell_type": "code",
   "execution_count": 62,
   "id": "681733d9-8593-4bf5-8c01-6cd85014da02",
   "metadata": {},
   "outputs": [
    {
     "name": "stdout",
     "output_type": "stream",
     "text": [
      "*****\n",
      "****\n",
      "***\n",
      "**\n",
      "*\n"
     ]
    }
   ],
   "source": [
    "for i in range(5, 0, -1):\n",
    "    print(\"*\" * i)"
   ]
  },
  {
   "cell_type": "code",
   "execution_count": 65,
   "id": "ee484a7c-9d57-4ee7-8deb-3637778a284d",
   "metadata": {},
   "outputs": [
    {
     "name": "stdout",
     "output_type": "stream",
     "text": [
      "*\n",
      "**\n",
      "***\n",
      "****\n"
     ]
    }
   ],
   "source": [
    "for i in range(1, 5):\n",
    "    print(\"*\" * i)"
   ]
  },
  {
   "cell_type": "code",
   "execution_count": null,
   "id": "c795f954-1e53-42a1-bc43-016ef0b98686",
   "metadata": {},
   "outputs": [],
   "source": []
  }
 ],
 "metadata": {
  "kernelspec": {
   "display_name": "Python 3 (ipykernel)",
   "language": "python",
   "name": "python3"
  },
  "language_info": {
   "codemirror_mode": {
    "name": "ipython",
    "version": 3
   },
   "file_extension": ".py",
   "mimetype": "text/x-python",
   "name": "python",
   "nbconvert_exporter": "python",
   "pygments_lexer": "ipython3",
   "version": "3.12.4"
  }
 },
 "nbformat": 4,
 "nbformat_minor": 5
}
