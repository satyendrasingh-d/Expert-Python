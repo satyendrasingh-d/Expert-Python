{
 "cells": [
  {
   "cell_type": "code",
   "execution_count": 4,
   "id": "a90aef33-1e55-4342-aca3-1d0b15864986",
   "metadata": {},
   "outputs": [
    {
     "name": "stdout",
     "output_type": "stream",
     "text": [
      "Maruti Suzuki Blano\n",
      "Toyota Fortuner\n"
     ]
    }
   ],
   "source": [
    "# Que 1. Write a python program to demonstrate polymorshis where two different classes have the same method name and a common function \n",
    "#calls those methods\n",
    "class Car:\n",
    "    def type(self):\n",
    "        print(\"Maruti Suzuki Blano\")\n",
    "class Same(Car):\n",
    "    def type (self):\n",
    "        print(\"Toyota Fortuner\")\n",
    "\n",
    "a = Car()\n",
    "b = Same()\n",
    "a.type()\n",
    "b.type()"
   ]
  },
  {
   "cell_type": "code",
   "execution_count": 6,
   "id": "794bcd38-b1a0-4b3b-ad0a-77ffe2a1021b",
   "metadata": {},
   "outputs": [
    {
     "name": "stdout",
     "output_type": "stream",
     "text": [
      "Speed is 100 kmph\n"
     ]
    }
   ],
   "source": [
    "# Que 2. Create a base class Vehicle with a method speed(). Then ,create a derived class Car that overrides the speed() method.\n",
    "class Vehicle:\n",
    "    def speed(self):\n",
    "        print(\"Speed is 100 kmph\")\n",
    "\n",
    "class Car(Vehicle):\n",
    "    def speed(self):\n",
    "        print(\"Speed is 150 kmph\")\n",
    "\n",
    "a = Vehicle()\n",
    "b = Car()\n",
    "a.speed()"
   ]
  },
  {
   "cell_type": "code",
   "execution_count": 15,
   "id": "4c90b489-a1c2-45c8-98d4-3f3229e87c20",
   "metadata": {},
   "outputs": [
    {
     "name": "stdout",
     "output_type": "stream",
     "text": [
      "Both volumes summation is: 90\n"
     ]
    }
   ],
   "source": [
    "# Que 3. Create a class Box that overloads the + operator to add the volume of two boxes\n",
    "class Box:\n",
    "    def __init__(self,volume):\n",
    "        self.volume = volume\n",
    "\n",
    "class NewBox(Box):\n",
    "    def __init__(self,volume1):\n",
    "        self.volume1 = volume1\n",
    "\n",
    "    def area(self,Box):\n",
    "        print(f\"Both volumes summation is: {self.volume1 + Box.volume}\")\n",
    "\n",
    "a = Box(45)\n",
    "b = NewBox(45)\n",
    "b.area(a)"
   ]
  },
  {
   "cell_type": "code",
   "execution_count": 1,
   "id": "bd6e149b-7250-4a06-bfe7-cee9ccb08f5d",
   "metadata": {},
   "outputs": [
    {
     "name": "stdout",
     "output_type": "stream",
     "text": [
      "Birds can fly.\n",
      "Penguins cannot fly.\n"
     ]
    }
   ],
   "source": [
    "class Bird:\n",
    "    def fly(self):\n",
    "        print(\"Birds can fly.\")\n",
    "\n",
    "class Penguin(Bird):\n",
    "    def fly(self):\n",
    "        print(\"Penguins cannot fly.\")\n",
    "\n",
    "b = Bird()\n",
    "p = Penguin()\n",
    "\n",
    "b.fly()  # Output: Birds can fly.\n",
    "p.fly()  # Output: Penguins cannot fly.\n"
   ]
  },
  {
   "cell_type": "code",
   "execution_count": null,
   "id": "9f3e1ab3-5a21-404d-9174-6bf0aba31a2c",
   "metadata": {},
   "outputs": [],
   "source": []
  }
 ],
 "metadata": {
  "kernelspec": {
   "display_name": "Python 3 (ipykernel)",
   "language": "python",
   "name": "python3"
  },
  "language_info": {
   "codemirror_mode": {
    "name": "ipython",
    "version": 3
   },
   "file_extension": ".py",
   "mimetype": "text/x-python",
   "name": "python",
   "nbconvert_exporter": "python",
   "pygments_lexer": "ipython3",
   "version": "3.12.4"
  }
 },
 "nbformat": 4,
 "nbformat_minor": 5
}
