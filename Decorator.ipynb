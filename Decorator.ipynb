{
 "cells": [
  {
   "cell_type": "markdown",
   "id": "a7e06db2-148a-4636-9d2a-8f18320710ab",
   "metadata": {},
   "source": [
    "Decorator\n",
    "\n",
    "A Decorator in Python is a functions which Takes other function as input, ADD Additional functionaities and retuens it.\n",
    "\n",
    "It is a callable Python object which modifies other function/class.\n",
    "\n",
    "Think of a decorator a wapper. it takes a fuction, adds some kind of functionality, and then return a new function with the added behavior.\n"
   ]
  },
  {
   "cell_type": "code",
   "execution_count": 4,
   "id": "2fca32fa-0a40-44b1-95f7-2473b4d46720",
   "metadata": {},
   "outputs": [
    {
     "name": "stdout",
     "output_type": "stream",
     "text": [
      "Hello!\n",
      "2Hello!\n",
      "Start\n"
     ]
    }
   ],
   "source": [
    "def decor(func):\n",
    "    def wrapper():\n",
    "        func()\n",
    "        print(\"Start\")\n",
    "    return wrapper\n",
    "\n",
    "@decor\n",
    "def printer():\n",
    "    print(\"Hello!\")\n",
    "    print(\"2Hello!\")\n",
    "printer()"
   ]
  },
  {
   "cell_type": "code",
   "execution_count": 5,
   "id": "26075b1f-9922-430b-8bfa-c6668eaca4b1",
   "metadata": {},
   "outputs": [
    {
     "name": "stdout",
     "output_type": "stream",
     "text": [
      "-------\n",
      "Hello\n",
      "-------\n"
     ]
    }
   ],
   "source": [
    "def decor(func):\n",
    "    def wrapper():\n",
    "        print('-------')\n",
    "        func()\n",
    "        print('-------')\n",
    "    return wrapper\n",
    "@decor\n",
    "def printer():\n",
    "    print('Hello')\n",
    "printer()"
   ]
  },
  {
   "cell_type": "code",
   "execution_count": 10,
   "id": "5f98f445-451a-440f-90b3-789422f93742",
   "metadata": {},
   "outputs": [
    {
     "name": "stdout",
     "output_type": "stream",
     "text": [
      "Before the original function\n",
      "Inside original function\n",
      "After the original function\n"
     ]
    }
   ],
   "source": [
    "# First define the decorator function\n",
    "def decorator_function(func):\n",
    "    def wrapper():\n",
    "        # Add any desired functionality here\n",
    "        print(\"Before the original function\")\n",
    "        func()\n",
    "        print(\"After the original function\")\n",
    "    return wrapper\n",
    "\n",
    "# Basic Syntex\n",
    "@decorator_function\n",
    "def original_function():\n",
    "    print(\"Inside original function\")\n",
    "    pass\n",
    "original_function()\n",
    "# This is equivalent to:\n",
    "# def original_function():\n",
    "# Pass\n",
    "# original function = decorator function (original function)\n",
    "# So, @decorator_function is syntactic sugar for wrapping the function manually.\n",
    "# Call the function"
   ]
  },
  {
   "cell_type": "code",
   "execution_count": 3,
   "id": "3f43e8ba-bf2e-4791-a8fe-c13bab7c759a",
   "metadata": {},
   "outputs": [
    {
     "name": "stdout",
     "output_type": "stream",
     "text": [
      "Before the function runs\n",
      "Hello\n",
      "After the function runs\n"
     ]
    }
   ],
   "source": [
    "def my_decorator(func):\n",
    "    def wapper():\n",
    "        print(\"Before the function runs\")\n",
    "        func()\n",
    "        print(\"After the function runs\")\n",
    "    return wapper\n",
    "\n",
    "@my_decorator\n",
    "def say_hello():\n",
    "    print(\"Hello\")\n",
    "say_hello()\n",
    "\n",
    "# @my_decorator is shortcut for \n",
    "# say_hello = my_decorator(say_hello)\n",
    "# The wrapper() function adds behavior before and after say_hello()."
   ]
  },
  {
   "cell_type": "code",
   "execution_count": 2,
   "id": "ad4a73e4-0ac2-4a1f-9cef-2c98a1b0e3d6",
   "metadata": {},
   "outputs": [
    {
     "name": "stdout",
     "output_type": "stream",
     "text": [
      "Something is happening before the function is called\n",
      "Hello\n",
      "Something is happening after the function is called\n"
     ]
    }
   ],
   "source": [
    "def my_decorator(func):\n",
    "    def wrapper():\n",
    "        print(\"Something is happening before the function is called\")\n",
    "        func()\n",
    "        print(\"Something is happening after the function is called\")\n",
    "    return wrapper\n",
    "@my_decorator\n",
    "def say_hello():\n",
    "    print(\"Hello\")\n",
    "say_hello()"
   ]
  },
  {
   "cell_type": "code",
   "execution_count": 6,
   "id": "0d815387-6d3f-4e45-9116-672884a8326c",
   "metadata": {},
   "outputs": [
    {
     "name": "stdout",
     "output_type": "stream",
     "text": [
      "Before call\n",
      "Hello, Alice!\n",
      "After call\n"
     ]
    }
   ],
   "source": [
    "# Decorators with Arguments\n",
    "# What if your fuction takes arguments? Modify the wrapper to accept *args and **kwargs.\n",
    "\n",
    "def my_decorator(func):\n",
    "    def wrapper(*args, **kwargs):\n",
    "        print(\"Before call\")\n",
    "        result = func(*args, **kwargs)\n",
    "        print(\"After call\")\n",
    "        return result\n",
    "    return wrapper\n",
    "@my_decorator\n",
    "def greet(name):\n",
    "    print(f'Hello, {name}!')\n",
    "greet(\"Alice\")"
   ]
  },
  {
   "cell_type": "markdown",
   "id": "3b39bbaf-7976-42e1-af6c-39625e15e8cd",
   "metadata": {},
   "source": [
    "Que: Create a decorator that logs functions name and parameters. The function should take exactly 2 aguments."
   ]
  },
  {
   "cell_type": "code",
   "execution_count": 7,
   "id": "319afac3-2e4b-4f91-9b22-640ea6643e99",
   "metadata": {},
   "outputs": [
    {
     "name": "stdout",
     "output_type": "stream",
     "text": [
      "Calling multiply with arguments: 10, 12\n",
      "120\n"
     ]
    }
   ],
   "source": [
    "# Logging Decorator (Fixed Arguments)\n",
    "def log_decorator(func):\n",
    "    def wrapper(a,b):\n",
    "        print(f'Calling {func.__name__} with arguments: {a}, {b}')\n",
    "        return func(a, b)\n",
    "    return wrapper\n",
    "@log_decorator\n",
    "def multiply (x,y):\n",
    "    return x * y\n",
    "print(multiply(10,12))"
   ]
  },
  {
   "cell_type": "markdown",
   "id": "13d11aea-1dff-4336-ad99-f553998760b3",
   "metadata": {},
   "source": [
    " Timer Decorator (No Arguments)\n",
    " \n",
    " Que: Create a decorator that measures execution time of a function with no parameters."
   ]
  },
  {
   "cell_type": "code",
   "execution_count": 8,
   "id": "60fb92c3-c15a-4c6c-8211-10a2f952f406",
   "metadata": {},
   "outputs": [
    {
     "name": "stdout",
     "output_type": "stream",
     "text": [
      "Work done.\n",
      "Time taken: 1.0007 second\n"
     ]
    }
   ],
   "source": [
    "import time\n",
    "def timer_decorator(func):\n",
    "    def wrapper():\n",
    "        start = time.time()\n",
    "        result = func()\n",
    "        end = time.time()\n",
    "        print(f'Time taken: {end - start:.4f} second')\n",
    "        return result\n",
    "    return wrapper\n",
    "\n",
    "@timer_decorator\n",
    "def do_work():\n",
    "    time.sleep(1)\n",
    "    print(\"Work done.\")\n",
    "do_work()"
   ]
  },
  {
   "cell_type": "markdown",
   "id": "e94ada1e-07d8-47dc-a5cc-5f9ff61b973e",
   "metadata": {},
   "source": [
    "Authorization Decorator  (single String Parameter)\n",
    "\n",
    "Que: Create a decorator that check if a user is 'admin'."
   ]
  },
  {
   "cell_type": "code",
   "execution_count": 9,
   "id": "e1a1c275-cb98-44a0-a922-b1e6f04328f9",
   "metadata": {},
   "outputs": [
    {
     "name": "stdout",
     "output_type": "stream",
     "text": [
      "Access denied\n",
      "admin accessed the dashboard\n"
     ]
    }
   ],
   "source": [
    "def requires_admin(func):\n",
    "    def wrapper(user):\n",
    "        if user != 'admin':\n",
    "            print(\"Access denied\")\n",
    "            return\n",
    "        return func(user)\n",
    "    return wrapper\n",
    "@requires_admin\n",
    "def access_dashboard(user):\n",
    "    print(f'{user} accessed the dashboard')\n",
    "access_dashboard('guest')\n",
    "access_dashboard('admin')"
   ]
  },
  {
   "cell_type": "markdown",
   "id": "82d530f3-74f2-404a-8504-5c845743a00e",
   "metadata": {},
   "source": [
    "Memoization Decorator (Single Integer Argument)\n",
    "\n",
    "Que: Create a memoization decorator for a function that takes one integer parameter."
   ]
  },
  {
   "cell_type": "code",
   "execution_count": 11,
   "id": "4f405fdc-9865-43e8-a552-7eb125821d9a",
   "metadata": {},
   "outputs": [
    {
     "name": "stdout",
     "output_type": "stream",
     "text": [
      "3628800\n"
     ]
    }
   ],
   "source": [
    "def decor(func):\n",
    "    cache = {}\n",
    "    def wrapper(n):\n",
    "        if n in cache:\n",
    "            return cache[n]\n",
    "        result = func(n)\n",
    "        cache[n] = result\n",
    "        return result\n",
    "    return wrapper \n",
    "@decor\n",
    "def factorial(n):\n",
    "    if n == 0:\n",
    "        return 1\n",
    "    return n * factorial(n - 1)\n",
    "print(factorial(10))"
   ]
  },
  {
   "cell_type": "markdown",
   "id": "80eea571-a009-4eff-9284-2032cd5c0e33",
   "metadata": {},
   "source": [
    "Returning Values \n",
    "\n",
    "Decorators can also return values from the wrapper function:"
   ]
  },
  {
   "cell_type": "code",
   "execution_count": 14,
   "id": "5c220667-6941-4e9f-8fc5-701d92890105",
   "metadata": {},
   "outputs": [
    {
     "name": "stdout",
     "output_type": "stream",
     "text": [
      "10\n"
     ]
    }
   ],
   "source": [
    "def double_result(func):\n",
    "    def wrapper(*args, **kwargs):\n",
    "        result = func(*args, **kwargs)\n",
    "        return result*2\n",
    "    return wrapper\n",
    "\n",
    "@double_result\n",
    "def get_number():\n",
    "    return 5\n",
    "print(get_number())"
   ]
  },
  {
   "cell_type": "code",
   "execution_count": 15,
   "id": "e273eda3-96bf-45c4-89d2-4ce76833fb7b",
   "metadata": {},
   "outputs": [
    {
     "name": "stdout",
     "output_type": "stream",
     "text": [
      "10\n"
     ]
    }
   ],
   "source": [
    "def decor(func):\n",
    "    def wrapper(*args, **kwargs):\n",
    "        result = func(*args, **kwargs)\n",
    "        return result*2\n",
    "    return wrapper\n",
    "@decor\n",
    "def get_number():\n",
    "    return 5\n",
    "print(get_number())"
   ]
  },
  {
   "cell_type": "code",
   "execution_count": null,
   "id": "77da9ed2-00ce-476b-b433-bf50591691ca",
   "metadata": {},
   "outputs": [],
   "source": []
  }
 ],
 "metadata": {
  "kernelspec": {
   "display_name": "Python 3 (ipykernel)",
   "language": "python",
   "name": "python3"
  },
  "language_info": {
   "codemirror_mode": {
    "name": "ipython",
    "version": 3
   },
   "file_extension": ".py",
   "mimetype": "text/x-python",
   "name": "python",
   "nbconvert_exporter": "python",
   "pygments_lexer": "ipython3",
   "version": "3.12.4"
  }
 },
 "nbformat": 4,
 "nbformat_minor": 5
}
