{
 "cells": [
  {
   "cell_type": "markdown",
   "id": "b6d72ed3-cc2b-43b9-abea-69751a735c6c",
   "metadata": {},
   "source": [
    "Que 1. Create an abstrac class Vehicle with an abstract method start, Then create a subclass Car that implements the start() method."
   ]
  },
  {
   "cell_type": "code",
   "execution_count": 4,
   "id": "94a1ae89-e03a-4538-b17a-a55a83124a8f",
   "metadata": {},
   "outputs": [
    {
     "name": "stdout",
     "output_type": "stream",
     "text": [
      "The Car is starting.\n"
     ]
    }
   ],
   "source": [
    "from abc import ABC, abstractmethod\n",
    "# Abstract class \n",
    "class Vehicle(ABC):\n",
    "    @abstractmethod\n",
    "    def start(self):\n",
    "        pass\n",
    "# Subclass \n",
    "class Car(Vehicle):\n",
    "    def start(self):\n",
    "        print(\"The Car is starting.\")\n",
    "car = Car()\n",
    "car.start()"
   ]
  },
  {
   "cell_type": "markdown",
   "id": "2242bd26-1146-4e67-a19a-f3cb31661153",
   "metadata": {},
   "source": [
    "Que 2. Write a python program that defines an abstract class Shape with an abstract method area(). Then create a Rectangle class that inherits from Shape and implements the area() method."
   ]
  },
  {
   "cell_type": "code",
   "execution_count": 6,
   "id": "bae9e00f-b3b7-4098-a46d-a3bc54ec3586",
   "metadata": {},
   "outputs": [
    {
     "name": "stdout",
     "output_type": "stream",
     "text": [
      "Area of the Rectangle 28\n"
     ]
    }
   ],
   "source": [
    "from abc import ABC, abstractmethod\n",
    "class Shape(ABC):\n",
    "    @abstractmethod\n",
    "    def area(self):\n",
    "        pass\n",
    "\n",
    "class Rectangle(Shape):\n",
    "    def __init__(self,length,width):\n",
    "        self.length = length\n",
    "        self.width = width\n",
    "    def area(self):\n",
    "            return self.length*self.width\n",
    "\n",
    "rectangle = Rectangle(7,4)\n",
    "print(\"Area of the Rectangle\",rectangle.area())"
   ]
  },
  {
   "cell_type": "markdown",
   "id": "8e603d98-8429-4c4b-b04d-ccd041d710c6",
   "metadata": {},
   "source": [
    "Que 3. Define an abstract class Animal with an abstract method make_sound(). Then create two subclass Dog, Cat each implementing make_sound() differently"
   ]
  },
  {
   "cell_type": "code",
   "execution_count": 9,
   "id": "367b6638-ca5f-4cb5-a127-07dc4a583792",
   "metadata": {},
   "outputs": [
    {
     "name": "stdout",
     "output_type": "stream",
     "text": [
      "Meow\n",
      "Bark\n"
     ]
    }
   ],
   "source": [
    "from abc import ABC, abstractmethod\n",
    "class Animal(ABC):\n",
    "    @abstractmethod\n",
    "    def make_sound(self):\n",
    "        pass\n",
    "\n",
    "class Dog(Animal):\n",
    "    def make_sound(self):\n",
    "        print(\"Bark\")\n",
    "\n",
    "class Cat(Animal):\n",
    "    def make_sound(self):\n",
    "        print(\"Meow\")\n",
    "\n",
    "cat = Cat()\n",
    "dog = Dog()\n",
    "\n",
    "cat.make_sound()\n",
    "dog.make_sound()"
   ]
  },
  {
   "cell_type": "code",
   "execution_count": 3,
   "id": "63403053-a059-47f0-817b-363aacb60a74",
   "metadata": {},
   "outputs": [
    {
     "name": "stdout",
     "output_type": "stream",
     "text": [
      "connected to database\n",
      "login into mobile\n",
      "mobile security\n"
     ]
    }
   ],
   "source": [
    "from abc import ABC, abstractmethod #abc-absract base class\n",
    "\n",
    "class BankApp(ABC):\n",
    "  def database(self):\n",
    "    print('connected to database')\n",
    "\n",
    "  @abstractmethod\n",
    "  def security(self):\n",
    "    pass\n",
    "\n",
    "class MobileApp(BankApp):\n",
    "  def mobile_login(self):\n",
    "    print('login into mobile')\n",
    "\n",
    "  def security(self):\n",
    "    print('mobile security')\n",
    "\n",
    "mob = MobileApp()\n",
    "mob.database()\n",
    "mob.mobile_login()\n",
    "mob.security()\n",
    "\n"
   ]
  },
  {
   "cell_type": "code",
   "execution_count": 4,
   "id": "0c631f2f-7bd6-4661-980a-9c1c3f571889",
   "metadata": {},
   "outputs": [
    {
     "name": "stdout",
     "output_type": "stream",
     "text": [
      "The mileage is 25kmph\n",
      "white\n",
      "The mileage is 24kmph\n",
      "white\n"
     ]
    }
   ],
   "source": [
    "from abc import ABC, abstractmethod\n",
    "\n",
    "class Car(ABC):\n",
    "    @abstractmethod\n",
    "    def mileage (self):\n",
    "      pass\n",
    "    def color(self):\n",
    "      print(\"white\")\n",
    "\n",
    "class Suzuki(Car):\n",
    "      def mileage(self):\n",
    "        print(\"The mileage is 25kmph\")\n",
    "\n",
    "class Honda(Car):\n",
    "      def mileage(self):\n",
    "        print(\"The mileage is 24kmph\")\n",
    "\n",
    "s1 = Suzuki()\n",
    "s1.mileage()\n",
    "s1.color()\n",
    "h1 = Honda()\n",
    "h1.mileage()\n",
    "h1.color()\n"
   ]
  },
  {
   "cell_type": "code",
   "execution_count": null,
   "id": "b96355a7-e999-490b-bafe-ee6984c02015",
   "metadata": {},
   "outputs": [],
   "source": []
  }
 ],
 "metadata": {
  "kernelspec": {
   "display_name": "Python 3 (ipykernel)",
   "language": "python",
   "name": "python3"
  },
  "language_info": {
   "codemirror_mode": {
    "name": "ipython",
    "version": 3
   },
   "file_extension": ".py",
   "mimetype": "text/x-python",
   "name": "python",
   "nbconvert_exporter": "python",
   "pygments_lexer": "ipython3",
   "version": "3.12.4"
  }
 },
 "nbformat": 4,
 "nbformat_minor": 5
}
