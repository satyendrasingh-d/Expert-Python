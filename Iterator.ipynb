{
 "cells": [
  {
   "cell_type": "code",
   "execution_count": 1,
   "id": "ce5447b6-3323-446e-8e53-dff0b5c56013",
   "metadata": {},
   "outputs": [
    {
     "name": "stdout",
     "output_type": "stream",
     "text": [
      "1\n",
      "2\n",
      "3\n",
      "4\n",
      "5\n"
     ]
    }
   ],
   "source": [
    "numbers = [1,2,3,4,5]\n",
    "for i in numbers:\n",
    "    print(i)"
   ]
  },
  {
   "cell_type": "code",
   "execution_count": 3,
   "id": "90732404-d60c-49cf-acc3-e0e1cf578adb",
   "metadata": {},
   "outputs": [
    {
     "name": "stdout",
     "output_type": "stream",
     "text": [
      "1\n",
      "2\n",
      "3\n",
      "4\n",
      "5\n"
     ]
    }
   ],
   "source": [
    "# Create a simple iterator using iter () and next()\n",
    "numbers = [1,2,3,4,5]\n",
    "iterator = iter(numbers)\n",
    "\n",
    "print(next(iterator))\n",
    "print(next(iterator))\n",
    "print(next(iterator))\n",
    "print(next(iterator))\n",
    "print(next(iterator))"
   ]
  },
  {
   "cell_type": "code",
   "execution_count": 4,
   "id": "c75897cf-4cd0-42d8-8692-655de7c4e1aa",
   "metadata": {},
   "outputs": [
    {
     "name": "stdout",
     "output_type": "stream",
     "text": [
      "1\n",
      "2\n",
      "3\n",
      "4\n",
      "5\n",
      "6\n"
     ]
    }
   ],
   "source": [
    "data = [1,2,3,4,5,6]\n",
    "iterator = iter(data)\n",
    "\n",
    "for i in iterator:\n",
    "    print(i)"
   ]
  },
  {
   "cell_type": "code",
   "execution_count": 9,
   "id": "269cd847-802a-4515-921b-c8e87bb371d6",
   "metadata": {},
   "outputs": [
    {
     "name": "stdout",
     "output_type": "stream",
     "text": [
      "H\n",
      "e\n",
      "l\n",
      "l\n",
      "o\n",
      "W\n",
      "o\n",
      "r\n"
     ]
    }
   ],
   "source": [
    "# Convert a string into an iterator and print each character using next().\n",
    "text = \"HelloWorld\"\n",
    "text_iter = iter(text) #  # Convert string into an iterator\n",
    "\n",
    "print(next(text_iter))\n",
    "print(next(text_iter))\n",
    "print(next(text_iter))\n",
    "print(next(text_iter))\n",
    "print(next(text_iter))\n",
    "print(next(text_iter))\n",
    "print(next(text_iter))\n",
    "print(next(text_iter))"
   ]
  },
  {
   "cell_type": "code",
   "execution_count": 13,
   "id": "4fe3e2ca-f4ec-4a7a-88a9-a8eb2fe27099",
   "metadata": {},
   "outputs": [
    {
     "name": "stdout",
     "output_type": "stream",
     "text": [
      "a\n",
      "b\n",
      "c\n",
      "1\n"
     ]
    }
   ],
   "source": [
    "# How to you use a for loop to iterate over an iterator.\n",
    "letters = iter([\"a\", \"b\", \"c\",1])\n",
    "\n",
    "for letter in letters:\n",
    "    print(letter)"
   ]
  },
  {
   "cell_type": "code",
   "execution_count": 15,
   "id": "a07609ce-3561-41d4-8cd3-c691bc232230",
   "metadata": {},
   "outputs": [
    {
     "name": "stdout",
     "output_type": "stream",
     "text": [
      "0\n",
      "1\n",
      "2\n",
      "3\n",
      "4\n"
     ]
    }
   ],
   "source": [
    "# How do you use iter() and next() to iterate through a range of numbers?\n",
    "range_iter = iter(range(5))\n",
    "print(next(range_iter))\n",
    "print(next(range_iter))\n",
    "print(next(range_iter))\n",
    "print(next(range_iter))\n",
    "print(next(range_iter))"
   ]
  },
  {
   "cell_type": "code",
   "execution_count": 17,
   "id": "982fa6af-39b7-414a-951d-5313c8bdfd89",
   "metadata": {},
   "outputs": [
    {
     "name": "stdout",
     "output_type": "stream",
     "text": [
      "apple\n",
      "banana\n",
      "cherry\n"
     ]
    }
   ],
   "source": [
    "#Manually iterate through a tuple using an iterator and a while loop.\n",
    "fruits = (\"apple\", \"banana\", \"cherry\")\n",
    "fruit_iter = iter(fruits)\n",
    "\n",
    "while True:\n",
    "    try:\n",
    "        print(next(fruit_iter))\n",
    "    except StopIteration:\n",
    "        break"
   ]
  },
  {
   "cell_type": "code",
   "execution_count": null,
   "id": "bcde17e5-d5ce-439d-92c5-4cd7d5fa4448",
   "metadata": {},
   "outputs": [],
   "source": []
  }
 ],
 "metadata": {
  "kernelspec": {
   "display_name": "Python 3 (ipykernel)",
   "language": "python",
   "name": "python3"
  },
  "language_info": {
   "codemirror_mode": {
    "name": "ipython",
    "version": 3
   },
   "file_extension": ".py",
   "mimetype": "text/x-python",
   "name": "python",
   "nbconvert_exporter": "python",
   "pygments_lexer": "ipython3",
   "version": "3.12.4"
  }
 },
 "nbformat": 4,
 "nbformat_minor": 5
}
