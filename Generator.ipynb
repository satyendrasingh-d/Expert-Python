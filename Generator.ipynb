{
 "cells": [
  {
   "cell_type": "code",
   "execution_count": 1,
   "id": "ce3e13db-f6b0-4c3a-ba08-94aea235d1c5",
   "metadata": {},
   "outputs": [
    {
     "name": "stdout",
     "output_type": "stream",
     "text": [
      "sumit\n",
      "2\n",
      "3\n"
     ]
    }
   ],
   "source": [
    "# Generator Functions\n",
    "# A generator function looks like a normal function but uses yield instead of return.\n",
    "\n",
    "def my_gen():\n",
    "    yield 'sumit'   #keyword\n",
    "    yield 2\n",
    "    yield 3\n",
    "\n",
    "gen = my_gen()   #Create the generator\n",
    "print(next(gen))\n",
    "print(next(gen))\n",
    "print(next(gen))"
   ]
  },
  {
   "cell_type": "markdown",
   "id": "3b30a087-edfb-42f9-9a52-6987d002c66f",
   "metadata": {},
   "source": [
    "The function my_generator does not return values all at once\n",
    "\n",
    "Instead, it pauses at yield and resumes when next() is called.\n",
    "\n",
    "When there are no more values to yield, it raises StopIteration."
   ]
  },
  {
   "cell_type": "code",
   "execution_count": 2,
   "id": "3a687bc5-c620-41ec-97f5-1b5ecc5712c6",
   "metadata": {},
   "outputs": [
    {
     "name": "stdout",
     "output_type": "stream",
     "text": [
      "1\n",
      "2\n",
      "3\n"
     ]
    }
   ],
   "source": [
    "def my_generator():\n",
    "    yield 1\n",
    "    yield 2\n",
    "    yield 3\n",
    "gen = my_generator()  #Creating the generator\n",
    "for num in gen:\n",
    "    print(num)    #Output:1,2,3"
   ]
  },
  {
   "cell_type": "code",
   "execution_count": 3,
   "id": "1b4e7132-a074-433a-94ac-48d484ec2d28",
   "metadata": {},
   "outputs": [
    {
     "name": "stdout",
     "output_type": "stream",
     "text": [
      "0\n",
      "2\n",
      "4\n"
     ]
    }
   ],
   "source": [
    "# Generator expressions provide a compact way to create generators, similar to list comprehensions.\n",
    "\n",
    "gen_exp = (x*2 for x in range(5))\n",
    "print(next(gen_exp))\n",
    "print(next(gen_exp))\n",
    "print(next(gen_exp))"
   ]
  },
  {
   "cell_type": "code",
   "execution_count": 4,
   "id": "73134676-cb4a-4ca5-a8e0-31d07f0c623a",
   "metadata": {},
   "outputs": [
    {
     "name": "stdout",
     "output_type": "stream",
     "text": [
      "[0, 1, 1, 2, 3]\n"
     ]
    }
   ],
   "source": [
    "# Generator for Fibonacci Series\n",
    "\n",
    "def fibonacci(n):\n",
    "    a, b = 0,1\n",
    "    for _ in range(n):\n",
    "        yield a\n",
    "        a, b = b, a + b\n",
    "fib = fibonacci(5)\n",
    "print(list(fib))\n",
    "\n",
    "# The generator yield Fibonacci number one at a time,\n",
    "# Instead of storing them all in memory."
   ]
  },
  {
   "cell_type": "markdown",
   "id": "9304877a-1335-41c6-9ebb-697f18266841",
   "metadata": {},
   "source": [
    "Generator Method Generator have special method that allow interaction beyond just\n",
    "iterating:\n",
    "\n",
    "next(gen) - Get the next value from the generator.\n",
    "\n",
    "gen.send(value) - Send a value into the generator\n",
    "\n",
    "gen.throw(ExceptionType) - Raises an exception inside the generator.\n",
    "\n",
    "gen.close() - Terminates the generator."
   ]
  },
  {
   "cell_type": "code",
   "execution_count": 5,
   "id": "92e181de-c398-45f7-99ba-6c4587015ff7",
   "metadata": {},
   "outputs": [
    {
     "name": "stdout",
     "output_type": "stream",
     "text": [
      "5\n",
      "3\n",
      "2\n"
     ]
    }
   ],
   "source": [
    "# Using send() to Interact with a Generator \n",
    "\n",
    "def countdown(n):\n",
    "    while n > 0:\n",
    "        val = (yield n)\n",
    "        if val is not None:\n",
    "            n = val\n",
    "        else:\n",
    "            n -= 1\n",
    "cd = countdown(5)\n",
    "print(next(cd))    # Output : 5\n",
    "print(cd.send(3))  # Output : 3 (modifies state)\n",
    "print(next(cd))    # Output : 2"
   ]
  },
  {
   "cell_type": "code",
   "execution_count": null,
   "id": "d2cc761e-f2d5-46ed-b262-180d1d0b486a",
   "metadata": {},
   "outputs": [],
   "source": []
  }
 ],
 "metadata": {
  "kernelspec": {
   "display_name": "Python 3 (ipykernel)",
   "language": "python",
   "name": "python3"
  },
  "language_info": {
   "codemirror_mode": {
    "name": "ipython",
    "version": 3
   },
   "file_extension": ".py",
   "mimetype": "text/x-python",
   "name": "python",
   "nbconvert_exporter": "python",
   "pygments_lexer": "ipython3",
   "version": "3.12.4"
  }
 },
 "nbformat": 4,
 "nbformat_minor": 5
}
